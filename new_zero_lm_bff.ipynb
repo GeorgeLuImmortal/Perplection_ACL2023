{
 "cells": [
  {
   "cell_type": "code",
   "execution_count": 11,
   "metadata": {},
   "outputs": [],
   "source": [
    "import pandas as pd\n",
    "import random\n",
    "import numpy as np\n",
    "from sklearn.metrics import accuracy_score\n",
    "from transformers import set_seed"
   ]
  },
  {
   "cell_type": "code",
   "execution_count": 30,
   "metadata": {},
   "outputs": [],
   "source": [
    "templates = ['满意','可以','好','行','喜欢','高兴','开心']\n",
    "task = 'ecommerce'\n",
    "# mode = 'dataset'\n",
    "mode = 'instance'\n",
    "random_flag = False\n",
    "seed = 0\n",
    "\n",
    "set_seed = (seed)"
   ]
  },
  {
   "cell_type": "code",
   "execution_count": 31,
   "metadata": {},
   "outputs": [],
   "source": [
    "accs = {}\n",
    "for template in templates:\n",
    "    df = pd.read_csv(f'./zeroshot_results_hen_bu/{task}_{template}.csv',index_col=0)\n",
    "    accs[template] = df"
   ]
  },
  {
   "cell_type": "code",
   "execution_count": 32,
   "metadata": {},
   "outputs": [],
   "source": [
    "ppls = {}\n",
    "for template in templates:\n",
    "    df_neg = pd.read_csv(f'./datasets_ppl_score_period/{task}_ppl_temp_不{template}。.csv',index_col=0)\n",
    "    df_pos = pd.read_csv(f'./datasets_ppl_score_period/{task}_ppl_temp_很{template}。.csv',index_col=0)\n",
    "    # df_neg = pd.read_csv(f'./datasets_ppl_score_period/{task}_ppl_temp_不{template}！.csv',index_col=0)\n",
    "    # df_pos = pd.read_csv(f'./datasets_ppl_score_period/{task}_ppl_temp_很{template}！.csv',index_col=0)\n",
    "    ppls[template] = {0:df_neg, 1:df_pos}"
   ]
  },
  {
   "cell_type": "code",
   "execution_count": 33,
   "metadata": {},
   "outputs": [],
   "source": [
    "candi_templates = []\n",
    "if mode=='instance':\n",
    "    ids = accs['满意'].index.tolist()\n",
    "    preds = []\n",
    "    for id in ids:\n",
    "        sent_ppl = {}\n",
    "        for template in templates:\n",
    "            neg_ppl = ppls[template][0].loc[id]['ppl']\n",
    "            pos_ppl = ppls[template][1].loc[id]['ppl']\n",
    "            mean_ppl = (neg_ppl+pos_ppl)/2\n",
    "            sent_ppl[template] = mean_ppl\n",
    "        \n",
    "        candi_template = min(sent_ppl, key=sent_ppl.get)\n",
    "        if random_flag:\n",
    "            candi_template = random.choice(templates)\n",
    "        candi_templates.append(candi_template)\n",
    "\n",
    "        neg_logit, pos_logit = accs[candi_template].loc[id]['neg_logits'], accs[candi_template].loc[id]['pos_logits']\n",
    "\n",
    "        if neg_logit>pos_logit:\n",
    "            preds.append(0)\n",
    "        else:\n",
    "            preds.append(1)\n",
    "\n",
    "else:\n",
    "    data_ppl = {}\n",
    "    preds = []\n",
    "    for template in templates:\n",
    "        neg_ppl = ppls[template][0]['ppl'].tolist()\n",
    "        pos_ppl = ppls[template][1]['ppl'].tolist()\n",
    "        dataset_ppl = []\n",
    "        for (neg, pos) in zip(neg_ppl, pos_ppl):\n",
    "            dataset_ppl.append((neg+pos)/2)\n",
    "\n",
    "        data_ppl[template] = np.mean(dataset_ppl)\n",
    "\n",
    "    candi_template = min(data_ppl, key=data_ppl.get)\n",
    "    neg_logit, pos_logit = accs[candi_template]['neg_logits'].tolist(), accs[candi_template]['pos_logits'].tolist()\n",
    "    \n",
    "    for (neg, pos) in zip(neg_logit, pos_logit):\n",
    "        if neg>pos:\n",
    "            preds.append(0)\n",
    "        else:\n",
    "            preds.append(1)\n",
    "\n",
    "\n"
   ]
  },
  {
   "cell_type": "code",
   "execution_count": 34,
   "metadata": {},
   "outputs": [
    {
     "name": "stdout",
     "output_type": "stream",
     "text": [
      "0.8331830477908025\n"
     ]
    }
   ],
   "source": [
    "test_labels = accs['满意'].labels.tolist()\n",
    "acc = accuracy_score(test_labels, preds)\n",
    "print(acc)"
   ]
  },
  {
   "cell_type": "code",
   "execution_count": 35,
   "metadata": {},
   "outputs": [
    {
     "name": "stdout",
     "output_type": "stream",
     "text": [
      "满意,331\n",
      "可以,174\n",
      "好,8\n",
      "行,1\n",
      "喜欢,1533\n",
      "高兴,130\n",
      "开心,41\n"
     ]
    }
   ],
   "source": [
    "for template in templates:\n",
    "    print(f'{template},{candi_templates.count(template)}')"
   ]
  },
  {
   "cell_type": "code",
   "execution_count": 36,
   "metadata": {},
   "outputs": [
    {
     "data": {
      "text/plain": [
       "2218"
      ]
     },
     "execution_count": 36,
     "metadata": {},
     "output_type": "execute_result"
    }
   ],
   "source": [
    "len(candi_templates)"
   ]
  },
  {
   "cell_type": "code",
   "execution_count": null,
   "metadata": {},
   "outputs": [],
   "source": []
  }
 ],
 "metadata": {
  "kernelspec": {
   "display_name": "Python 3.8.8 ('base')",
   "language": "python",
   "name": "python3"
  },
  "language_info": {
   "codemirror_mode": {
    "name": "ipython",
    "version": 3
   },
   "file_extension": ".py",
   "mimetype": "text/x-python",
   "name": "python",
   "nbconvert_exporter": "python",
   "pygments_lexer": "ipython3",
   "version": "3.8.8"
  },
  "orig_nbformat": 4,
  "vscode": {
   "interpreter": {
    "hash": "d4d1e4263499bec80672ea0156c357c1ee493ec2b1c70f0acce89fc37c4a6abe"
   }
  }
 },
 "nbformat": 4,
 "nbformat_minor": 2
}
