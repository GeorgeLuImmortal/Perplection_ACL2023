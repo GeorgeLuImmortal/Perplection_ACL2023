{
 "cells": [
  {
   "cell_type": "code",
   "execution_count": 1,
   "metadata": {},
   "outputs": [
    {
     "name": "stdout",
     "output_type": "stream",
     "text": [
      "Namespace(batch_size=2, datasets='./datasets_ppl_score/', input_data='./datasets/', max_len=512, model='./models/my_roberta/', result_output_dir='./ppl_results/', task='ecommerce', template='绿黑。', tokenizer='./models/my_roberta/')\n",
      "loading tokenizer ./models/my_roberta/\n",
      "Some weights of the model checkpoint at ./models/my_roberta/ were not used when initializing BertForMaskedLM: ['cls.seq_relationship.weight', 'cls.seq_relationship.bias']\n",
      "- This IS expected if you are initializing BertForMaskedLM from the checkpoint of a model trained on another task or with another architecture (e.g. initializing a BertForSequenceClassification model from a BertForPreTraining model).\n",
      "- This IS NOT expected if you are initializing BertForMaskedLM from the checkpoint of a model that you expect to be exactly identical (initializing a BertForSequenceClassification model from a BertForSequenceClassification model).\n",
      "绿黑。怀疑是假货，洗发后感觉很不好\n",
      "100%|███████████████████████████████████████| 2218/2218 [09:24<00:00,  3.93it/s]\n"
     ]
    }
   ],
   "source": [
    "!python ppl_senti_temp.py --task ecommerce --template='绿黑。'"
   ]
  },
  {
   "cell_type": "code",
   "execution_count": 2,
   "metadata": {},
   "outputs": [
    {
     "name": "stdout",
     "output_type": "stream",
     "text": [
      "Namespace(batch_size=2, datasets='./datasets_ppl_score/', input_data='./datasets/', max_len=512, model='./models/my_roberta/', result_output_dir='./ppl_results/', task='ecommerce', template='黄黑。', tokenizer='./models/my_roberta/')\n",
      "loading tokenizer ./models/my_roberta/\n",
      "Some weights of the model checkpoint at ./models/my_roberta/ were not used when initializing BertForMaskedLM: ['cls.seq_relationship.bias', 'cls.seq_relationship.weight']\n",
      "- This IS expected if you are initializing BertForMaskedLM from the checkpoint of a model trained on another task or with another architecture (e.g. initializing a BertForSequenceClassification model from a BertForPreTraining model).\n",
      "- This IS NOT expected if you are initializing BertForMaskedLM from the checkpoint of a model that you expect to be exactly identical (initializing a BertForSequenceClassification model from a BertForSequenceClassification model).\n",
      "黄黑。怀疑是假货，洗发后感觉很不好\n",
      "100%|███████████████████████████████████████| 2218/2218 [05:33<00:00,  6.66it/s]\n"
     ]
    }
   ],
   "source": [
    "!python ppl_senti_temp.py --task ecommerce --template='黄黑。'"
   ]
  },
  {
   "cell_type": "code",
   "execution_count": null,
   "metadata": {},
   "outputs": [],
   "source": [
    "!python ppl_senti_temp.py --task ecommerce --template='很可以！'"
   ]
  },
  {
   "cell_type": "code",
   "execution_count": null,
   "metadata": {},
   "outputs": [],
   "source": [
    "!python ppl_senti_temp.py --task ecommerce --template='不可以！'"
   ]
  },
  {
   "cell_type": "code",
   "execution_count": null,
   "metadata": {},
   "outputs": [],
   "source": [
    "!python ppl_senti_temp.py --task ecommerce --template='很好！'"
   ]
  },
  {
   "cell_type": "code",
   "execution_count": null,
   "metadata": {},
   "outputs": [],
   "source": [
    "!python ppl_senti_temp.py --task ecommerce --template='不好！'"
   ]
  },
  {
   "cell_type": "code",
   "execution_count": null,
   "metadata": {},
   "outputs": [],
   "source": [
    "!python ppl_senti_temp.py --task ecommerce --template='很行！'"
   ]
  },
  {
   "cell_type": "code",
   "execution_count": null,
   "metadata": {},
   "outputs": [],
   "source": [
    "!python ppl_senti_temp.py --task ecommerce --template='不行！'"
   ]
  },
  {
   "cell_type": "code",
   "execution_count": null,
   "metadata": {},
   "outputs": [],
   "source": [
    "!python ppl_senti_temp.py --task ecommerce --template='很喜欢！'"
   ]
  },
  {
   "cell_type": "code",
   "execution_count": null,
   "metadata": {},
   "outputs": [],
   "source": [
    "!python ppl_senti_temp.py --task ecommerce --template='不喜欢！'"
   ]
  },
  {
   "cell_type": "code",
   "execution_count": null,
   "metadata": {},
   "outputs": [],
   "source": [
    "!python ppl_senti_temp.py --task ecommerce --template='很高兴！'"
   ]
  },
  {
   "cell_type": "code",
   "execution_count": null,
   "metadata": {},
   "outputs": [],
   "source": [
    "!python ppl_senti_temp.py --task ecommerce --template='不高兴！'"
   ]
  },
  {
   "cell_type": "code",
   "execution_count": null,
   "metadata": {},
   "outputs": [],
   "source": [
    "!python ppl_senti_temp.py --task ecommerce --template='很开心！'"
   ]
  },
  {
   "cell_type": "code",
   "execution_count": null,
   "metadata": {},
   "outputs": [],
   "source": [
    "!python ppl_senti_temp.py --task ecommerce --template='不开心！'"
   ]
  },
  {
   "cell_type": "code",
   "execution_count": null,
   "metadata": {},
   "outputs": [],
   "source": []
  }
 ],
 "metadata": {
  "kernelspec": {
   "display_name": "Python 3.8.8 ('base')",
   "language": "python",
   "name": "python3"
  },
  "language_info": {
   "codemirror_mode": {
    "name": "ipython",
    "version": 3
   },
   "file_extension": ".py",
   "mimetype": "text/x-python",
   "name": "python",
   "nbconvert_exporter": "python",
   "pygments_lexer": "ipython3",
   "version": "3.8.8"
  },
  "orig_nbformat": 4,
  "vscode": {
   "interpreter": {
    "hash": "d4d1e4263499bec80672ea0156c357c1ee493ec2b1c70f0acce89fc37c4a6abe"
   }
  }
 },
 "nbformat": 4,
 "nbformat_minor": 2
}
