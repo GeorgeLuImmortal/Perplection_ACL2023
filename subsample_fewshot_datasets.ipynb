{
 "cells": [
  {
   "cell_type": "code",
   "execution_count": 1,
   "metadata": {},
   "outputs": [
    {
     "name": "stderr",
     "output_type": "stream",
     "text": [
      "/opt/conda/lib/python3.8/site-packages/tqdm/auto.py:22: TqdmWarning: IProgress not found. Please update jupyter and ipywidgets. See https://ipywidgets.readthedocs.io/en/stable/user_install.html\n",
      "  from .autonotebook import tqdm as notebook_tqdm\n"
     ]
    }
   ],
   "source": [
    "from transformers import set_seed, BertTokenizer, TFAutoModelForMaskedLM, AutoTokenizer, get_scheduler, BertForPreTraining, BertForMaskedLM, BertConfig\n",
    "import pandas as pd\n",
    "import numpy as np\n",
    "from tqdm import tqdm\n",
    "from torch.utils.data import DataLoader\n",
    "from datasets import load_dataset, Dataset\n",
    "from sklearn.metrics import accuracy_score\n",
    "from torch.optim import AdamW\n",
    "import argparse, torch, datasets, ast, operator, gc, os\n",
    "import torch.nn as nn"
   ]
  },
  {
   "cell_type": "code",
   "execution_count": 2,
   "metadata": {},
   "outputs": [
    {
     "name": "stdout",
     "output_type": "stream",
     "text": [
      "Namespace(batch_size=2, datasets='./datasets/', num_example=16, task='douban')\n"
     ]
    }
   ],
   "source": [
    "parser = argparse.ArgumentParser(description='search for best template according to dev set')\n",
    "parser.add_argument('--num_example', default=16, type=int, help=\"subsample num examples per class\")\n",
    "parser.add_argument('--batch_size', default=2, type=int, help=\"batch size\")\n",
    "parser.add_argument('--task', default='douban', type=str, help=\"task name\")\n",
    "parser.add_argument('--datasets', default='./datasets/', type=str, help=\"dataset dir\")\n",
    "args = parser.parse_args(args=[])\n",
    "\n",
    "print(args)"
   ]
  },
  {
   "cell_type": "code",
   "execution_count": 3,
   "metadata": {},
   "outputs": [],
   "source": [
    "pd_all = pd.read_csv(f'{args.datasets}{args.task}_output.csv',names=['labels','text'],header=0)"
   ]
  },
  {
   "cell_type": "code",
   "execution_count": 4,
   "metadata": {},
   "outputs": [],
   "source": [
    "# create fewshot training set\n",
    "for seed in range(5):\n",
    "    set_seed(seed)\n",
    "    pd_pos = pd_all[pd_all.labels==1].sample(16)\n",
    "    pd_neg = pd_all[pd_all.labels==0].sample(16)\n",
    "    pd_train = pd.concat([pd_pos,pd_neg])\n",
    "    pd_train = pd_train.sample(frac=1)\n",
    "    pd_train.to_csv(f'{args.datasets}{args.task}_output_{seed}.csv')"
   ]
  },
  {
   "cell_type": "code",
   "execution_count": 5,
   "metadata": {},
   "outputs": [],
   "source": [
    "fewshot_train_datasets = []\n",
    "for seed in range(5): \n",
    "    pd_train = pd.read_csv(f'{args.datasets}{args.task}_output_{seed}.csv',names=['labels','text'],header=0)\n",
    "    fewshot_train_datasets.append(pd_train)\n",
    "\n",
    "fewshot_train_pd = pd.concat(fewshot_train_datasets)\n",
    "fewshot_train_pd = fewshot_train_pd.drop_duplicates()\n"
   ]
  },
  {
   "cell_type": "code",
   "execution_count": 6,
   "metadata": {},
   "outputs": [
    {
     "data": {
      "text/plain": [
       "(150, 1094)"
      ]
     },
     "execution_count": 6,
     "metadata": {},
     "output_type": "execute_result"
    }
   ],
   "source": [
    "len(fewshot_train_pd),len(pd_all)"
   ]
  },
  {
   "cell_type": "code",
   "execution_count": 7,
   "metadata": {},
   "outputs": [],
   "source": [
    "# create fewshot dev set\n",
    "pd_all = pd_all.drop(fewshot_train_pd.index)\n",
    "pd_pos = pd_all[pd_all.labels==1].sample(16)\n",
    "pd_neg = pd_all[pd_all.labels==0].sample(16)\n",
    "pd_dev = pd.concat([pd_pos,pd_neg])\n",
    "pd_dev = pd_dev.sample(frac=1)\n",
    "pd_dev.to_csv(f'{args.datasets}{args.task}_output_dev.csv')"
   ]
  },
  {
   "cell_type": "code",
   "execution_count": 8,
   "metadata": {},
   "outputs": [
    {
     "data": {
      "text/plain": [
       "(32, 944)"
      ]
     },
     "execution_count": 8,
     "metadata": {},
     "output_type": "execute_result"
    }
   ],
   "source": [
    "len(pd_dev),len(pd_all)"
   ]
  },
  {
   "cell_type": "code",
   "execution_count": 9,
   "metadata": {},
   "outputs": [
    {
     "data": {
      "text/plain": [
       "912"
      ]
     },
     "execution_count": 9,
     "metadata": {},
     "output_type": "execute_result"
    }
   ],
   "source": [
    "# create fewshot test set\n",
    "pd_all = pd_all.drop(pd_dev.index)\n",
    "pd_all.to_csv(f'{args.datasets}{args.task}_output_test.csv')\n",
    "len(pd_all)"
   ]
  },
  {
   "cell_type": "code",
   "execution_count": null,
   "metadata": {},
   "outputs": [],
   "source": []
  }
 ],
 "metadata": {
  "kernelspec": {
   "display_name": "Python 3.8.8 ('base')",
   "language": "python",
   "name": "python3"
  },
  "language_info": {
   "codemirror_mode": {
    "name": "ipython",
    "version": 3
   },
   "file_extension": ".py",
   "mimetype": "text/x-python",
   "name": "python",
   "nbconvert_exporter": "python",
   "pygments_lexer": "ipython3",
   "version": "3.8.8"
  },
  "orig_nbformat": 4,
  "vscode": {
   "interpreter": {
    "hash": "d4d1e4263499bec80672ea0156c357c1ee493ec2b1c70f0acce89fc37c4a6abe"
   }
  }
 },
 "nbformat": 4,
 "nbformat_minor": 2
}
