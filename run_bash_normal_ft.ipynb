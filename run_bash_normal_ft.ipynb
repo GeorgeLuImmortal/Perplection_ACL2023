{
 "cells": [
  {
   "cell_type": "code",
   "execution_count": null,
   "metadata": {},
   "outputs": [],
   "source": [
    "# !python run_few_senti_equal_epoch.py --task douban --epoch 20 --lr 1e-4 --batch_size 32\n",
    "!python run_few_senti_equal_epoch.py --task douban --epoch 20 --lr 1e-4 --model='./models/my_bert/' --tokenizer='./models/my_bert/'"
   ]
  },
  {
   "cell_type": "code",
   "execution_count": null,
   "metadata": {},
   "outputs": [],
   "source": [
    "# !python run_few_senti_equal_epoch.py --task weibo --epoch 20 --lr 1e-4\n",
    "!python run_few_senti_equal_epoch.py --task weibo --epoch 20 --lr 1e-4 --model='./models/my_bert/' --tokenizer='./models/my_bert/' "
   ]
  },
  {
   "cell_type": "code",
   "execution_count": null,
   "metadata": {},
   "outputs": [],
   "source": [
    "# !python run_few_senti_equal_epoch.py --task waimai --epoch 20 --lr 1e-4 --batch_size 32\n",
    "!python run_few_senti_equal_epoch.py --task waimai --epoch 20 --lr 1e-4 --model='./models/my_bert/' --tokenizer='./models/my_bert/' "
   ]
  },
  {
   "cell_type": "code",
   "execution_count": null,
   "metadata": {},
   "outputs": [],
   "source": [
    "# !python run_few_senti_equal_epoch.py --task ecommerce --epoch 20 --lr 1e-4 --batch_size 32\n",
    "!python run_few_senti_equal_epoch.py --task ecommerce --epoch 20 --lr 1e-4 --model='./models/my_bert/' --tokenizer='./models/my_bert/' "
   ]
  },
  {
   "cell_type": "code",
   "execution_count": null,
   "metadata": {},
   "outputs": [],
   "source": []
  },
  {
   "cell_type": "code",
   "execution_count": null,
   "metadata": {},
   "outputs": [],
   "source": [
    "!python run_few_senti_equal_epoch_all.py --task douban --epoch 20 --lr 1e-4"
   ]
  },
  {
   "cell_type": "code",
   "execution_count": null,
   "metadata": {},
   "outputs": [],
   "source": [
    "!python run_few_senti_equal_epoch_all.py --task weibo --epoch 20 --lr 1e-4"
   ]
  },
  {
   "cell_type": "code",
   "execution_count": null,
   "metadata": {},
   "outputs": [],
   "source": [
    "!python run_few_senti_equal_epoch_all.py --task waimai --epoch 20 --lr 1e-4"
   ]
  },
  {
   "cell_type": "code",
   "execution_count": null,
   "metadata": {},
   "outputs": [],
   "source": [
    "!python run_few_senti_equal_epoch_all.py --task ecommerce --epoch 20 --lr 1e-4"
   ]
  },
  {
   "cell_type": "code",
   "execution_count": null,
   "metadata": {},
   "outputs": [],
   "source": []
  }
 ],
 "metadata": {
  "kernelspec": {
   "display_name": "Python 3.8.8 ('base')",
   "language": "python",
   "name": "python3"
  },
  "language_info": {
   "codemirror_mode": {
    "name": "ipython",
    "version": 3
   },
   "file_extension": ".py",
   "mimetype": "text/x-python",
   "name": "python",
   "nbconvert_exporter": "python",
   "pygments_lexer": "ipython3",
   "version": "3.8.8"
  },
  "orig_nbformat": 4,
  "vscode": {
   "interpreter": {
    "hash": "d4d1e4263499bec80672ea0156c357c1ee493ec2b1c70f0acce89fc37c4a6abe"
   }
  }
 },
 "nbformat": 4,
 "nbformat_minor": 2
}
