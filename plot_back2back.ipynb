{
 "cells": [
  {
   "cell_type": "code",
   "execution_count": 2,
   "metadata": {},
   "outputs": [],
   "source": [
    "# import packages\n",
    "import matplotlib\n",
    "\n",
    "font = {'family' : 'normal',\n",
    "        'size'   : 25}\n",
    "\n",
    "matplotlib.rc('font', **font)\n",
    "\n",
    "import pandas as pd\n",
    "import matplotlib.pyplot as plt\n",
    "plt.rcParams[\"figure.figsize\"] = (15,8)\n",
    "import numpy as np"
   ]
  },
  {
   "cell_type": "code",
   "execution_count": 4,
   "metadata": {},
   "outputs": [
    {
     "name": "stderr",
     "output_type": "stream",
     "text": [
      "/tmp/ipykernel_60560/3193777859.py:36: UserWarning: FixedFormatter should only be used together with FixedLocator\n",
      "  ax.set_yticklabels(y_tick)\n",
      "/tmp/ipykernel_60560/3193777859.py:37: UserWarning: FixedFormatter should only be used together with FixedLocator\n",
      "  ax.set_xticklabels(x_tick)\n"
     ]
    },
    {
     "data": {
      "image/png": "[encoded data removed]",
      "text/plain": [
       "<Figure size 432x288 with 1 Axes>"
      ]
     },
     "metadata": {
      "needs_background": "light"
     },
     "output_type": "display_data"
    }
   ],
   "source": [
    " \n",
    "# create data\n",
    "# 0.792025\t0.74105\t0.649575\t0.629375\t0.5681275\t0.527425\t0.4991\n",
    "# 0.737968128\t0.749533736\t0.701267057\t0.706278446\t0.565046042\t0.536085791\t0.499122535\n",
    "# 34.86152402\t41.85573463\t2.331403536\t1.627288374\t0.797997184\t18.38522923\t0.140823032\n",
    "\n",
    "\n",
    "A = np.array([49.91,53.60,56.50,70.12,70.62,73.79,74.95])\n",
    "# A = np.array([49.91,52.74,56.81,62.93,64.95,74.10,79.20])\n",
    "# A = np.array([79.20,74.10,64.95,62.93,56.81,52.74,49.91])\n",
    "# B = np.array([9.76,61.81,8.58,8.33,11.48,0.15,0.01])\n",
    "# B = np.array([0.01,0.15,11.48,8.33,8.58,61.81,9.76])\n",
    "B = np.array([0.14,18.38,0.79,1.62,2.33,34.86,41.85])\n",
    "X = np.arange(7)\n",
    "# y_tick = ['','[MASK] ok.','[MASK] good.', '[MASK] happy.', '[MASK] pretty good.',\n",
    "# '[MASK] pleased.','[MASK] fond of it.','[MASK] satisfied.']\n",
    "\n",
    "y_tick = ['','[MASK] ok.','[MASK] pretty good.', '[MASK] good.', '[MASK] pleased.',\n",
    "'[MASK] happy.','[MASK] satisfied.','[MASK] fond of it.']\n",
    "\n",
    "x_tick = ['80','60','40','20','0','20','40','60','80']\n",
    " \n",
    "f, ax = plt.subplots()\n",
    "# plot the bars\n",
    "plt.barh(X, A, align='center',\n",
    "         alpha=0.9, color = 'steelblue')\n",
    " \n",
    "plt.barh(X, -B, align='center',\n",
    "         alpha=0.6, color = 'r')\n",
    " \n",
    "\n",
    "\n",
    "# plt.grid()\n",
    "# plt.title(\"Frequency of being selected vs. Template Performance\")\n",
    "# plt.ylabel(\"Indexes\")\n",
    "plt.xlabel(\"Frequency (left) vs. Mean Accuracy (right)\")\n",
    "ax.set_yticklabels(y_tick)\n",
    "ax.set_xticklabels(x_tick)\n",
    "plt.savefig('template_analysis.pdf',bbox_inches='tight')\n",
    "plt.show()"
   ]
  },
  {
   "cell_type": "code",
   "execution_count": null,
   "metadata": {},
   "outputs": [],
   "source": []
  },
  {
   "cell_type": "code",
   "execution_count": null,
   "metadata": {},
   "outputs": [],
   "source": []
  }
 ],
 "metadata": {
  "kernelspec": {
   "display_name": "Python 3.8.8 ('base')",
   "language": "python",
   "name": "python3"
  },
  "language_info": {
   "codemirror_mode": {
    "name": "ipython",
    "version": 3
   },
   "file_extension": ".py",
   "mimetype": "text/x-python",
   "name": "python",
   "nbconvert_exporter": "python",
   "pygments_lexer": "ipython3",
   "version": "3.8.8"
  },
  "orig_nbformat": 4,
  "vscode": {
   "interpreter": {
    "hash": "d4d1e4263499bec80672ea0156c357c1ee493ec2b1c70f0acce89fc37c4a6abe"
   }
  }
 },
 "nbformat": 4,
 "nbformat_minor": 2
}
