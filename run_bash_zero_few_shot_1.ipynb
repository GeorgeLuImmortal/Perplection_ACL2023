{
 "cells": [
  {
   "cell_type": "code",
   "execution_count": null,
   "metadata": {},
   "outputs": [],
   "source": [
    "!python run_few_senti_equal_epoch_all.py"
   ]
  },
  {
   "cell_type": "code",
   "execution_count": null,
   "metadata": {},
   "outputs": [],
   "source": []
  },
  {
   "cell_type": "code",
   "execution_count": null,
   "metadata": {},
   "outputs": [],
   "source": []
  },
  {
   "cell_type": "code",
   "execution_count": null,
   "metadata": {
    "scrolled": false
   },
   "outputs": [],
   "source": [
    "!bash sh_senti_weibo.sh"
   ]
  },
  {
   "cell_type": "code",
   "execution_count": null,
   "metadata": {},
   "outputs": [],
   "source": [
    "!bash sh_senti_douban.sh"
   ]
  },
  {
   "cell_type": "code",
   "execution_count": null,
   "metadata": {},
   "outputs": [],
   "source": [
    "!bash sh_senti_waimai.sh"
   ]
  },
  {
   "cell_type": "code",
   "execution_count": null,
   "metadata": {},
   "outputs": [],
   "source": [
    "!bash sh_senti_ecommerce.sh"
   ]
  },
  {
   "cell_type": "code",
   "execution_count": null,
   "metadata": {},
   "outputs": [],
   "source": []
  },
  {
   "cell_type": "code",
   "execution_count": null,
   "metadata": {},
   "outputs": [],
   "source": [
    "!bash sh_senti_douban_fewshot.sh"
   ]
  },
  {
   "cell_type": "code",
   "execution_count": null,
   "metadata": {},
   "outputs": [],
   "source": [
    "!bash sh_senti_weibo_fewshot.sh"
   ]
  },
  {
   "cell_type": "code",
   "execution_count": null,
   "metadata": {},
   "outputs": [],
   "source": [
    "!bash sh_senti_waimai_fewshot.sh"
   ]
  },
  {
   "cell_type": "code",
   "execution_count": null,
   "metadata": {},
   "outputs": [],
   "source": [
    "!bash sh_senti_ecommerce_fewshot.sh"
   ]
  },
  {
   "cell_type": "code",
   "execution_count": null,
   "metadata": {},
   "outputs": [],
   "source": []
  },
  {
   "cell_type": "code",
   "execution_count": null,
   "metadata": {},
   "outputs": [],
   "source": [
    "!bash sh_senti_weibo_fewshot_equal_epochs_v1.sh"
   ]
  },
  {
   "cell_type": "code",
   "execution_count": null,
   "metadata": {},
   "outputs": [],
   "source": [
    "!bash sh_senti_waimai_fewshot_equal_epochs_v1.sh"
   ]
  },
  {
   "cell_type": "code",
   "execution_count": null,
   "metadata": {},
   "outputs": [],
   "source": [
    "!bash sh_senti_ecommerce_fewshot_equal_epochs_v1.sh"
   ]
  },
  {
   "cell_type": "code",
   "execution_count": 10,
   "metadata": {},
   "outputs": [
    {
     "name": "stdout",
     "output_type": "stream",
     "text": [
      "bash: warning: setlocale: LC_ALL: cannot change locale (en_US.UTF-8)\n",
      "Run prompt fewshot train and prediction for sentiment analysis\n",
      "### GPU available is True ###\n",
      "Namespace(batch_size=2, dataset_dir='./datasets/', epochs=20, eval_batch_size=64, label_convertion_flag='False', lr=0.0001, mapping=\"{0:'绿',1:'黄'}\", max_len=512, model='./models/my_bert/', num_label_words=1, output_dir='./tuned_models_eq', result_output_dir='./fewshot_results_eq/', seed=0, task='douban', tokenizer='./models/my_bert/')\n",
      "loading tokenizer ./models/my_bert/\n",
      "{0: '绿', 1: '黄'}\n",
      "##### *cls**mask*黑。*sent_0**sep+*\n",
      " #####\n",
      "#### read fewshot data from ./datasets/douban_output_0.csv ####\n",
      "### an example of template text ###\n",
      "[MASK]黑。太他妈闹腾了，什么鸡巴节奏。\n",
      "loading model ./models/my_bert/\n",
      "Epoch 0: 100%|██████████████████████| 16/16 [00:04<00:00,  3.51it/s, loss=0.827]\n",
      "Epoch 1: 100%|██████████████████████| 16/16 [00:05<00:00,  2.82it/s, loss=0.696]\n",
      "Epoch 2: 100%|██████████████████████| 16/16 [00:05<00:00,  2.80it/s, loss=0.318]\n",
      "Epoch 3: 100%|██████████████████████| 16/16 [00:05<00:00,  2.69it/s, loss=0.739]\n",
      "Epoch 4: 100%|██████████████████████| 16/16 [00:06<00:00,  2.58it/s, loss=0.982]\n",
      "Epoch 5: 100%|███████████████████████| 16/16 [00:05<00:00,  2.79it/s, loss=0.48]\n",
      "Epoch 6: 100%|████████████████████| 16/16 [00:06<00:00,  2.66it/s, loss=0.00298]\n",
      "Epoch 7: 100%|███████████████████| 16/16 [00:05<00:00,  3.06it/s, loss=0.000344]\n",
      "Epoch 8: 100%|███████████████████| 16/16 [00:05<00:00,  2.72it/s, loss=0.000755]\n",
      "Epoch 9: 100%|███████████████████| 16/16 [00:05<00:00,  2.84it/s, loss=0.000131]\n",
      "Epoch 10: 100%|██████████████████| 16/16 [00:06<00:00,  2.66it/s, loss=0.000111]\n",
      "Epoch 11: 100%|███████████████████| 16/16 [00:06<00:00,  2.60it/s, loss=9.65e-5]\n",
      "Epoch 12: 100%|███████████████████| 16/16 [00:05<00:00,  2.84it/s, loss=8.33e-5]\n",
      "Epoch 13: 100%|███████████████████| 16/16 [00:06<00:00,  2.63it/s, loss=9.89e-5]\n",
      "Epoch 14: 100%|███████████████████| 16/16 [00:05<00:00,  3.02it/s, loss=8.45e-5]\n",
      "Epoch 15: 100%|███████████████████| 16/16 [00:05<00:00,  2.82it/s, loss=6.51e-5]\n",
      "Epoch 16: 100%|███████████████████| 16/16 [00:05<00:00,  2.86it/s, loss=5.48e-5]\n",
      "Epoch 17: 100%|███████████████████| 16/16 [00:05<00:00,  2.81it/s, loss=5.22e-5]\n",
      "Epoch 18: 100%|███████████████████| 16/16 [00:05<00:00,  2.72it/s, loss=5.88e-5]\n",
      "Epoch 19: 100%|███████████████████| 16/16 [00:05<00:00,  2.70it/s, loss=8.37e-5]\n",
      "100%|███████████████████████████████████████████| 15/15 [00:43<00:00,  2.88s/it]\n",
      "0.5778508771929824\n",
      "Run prompt fewshot train and prediction for sentiment analysis\n",
      "### GPU available is True ###\n",
      "Namespace(batch_size=2, dataset_dir='./datasets/', epochs=20, eval_batch_size=64, label_convertion_flag='False', lr=0.0001, mapping=\"{0:'绿',1:'黄'}\", max_len=512, model='./models/my_bert/', num_label_words=1, output_dir='./tuned_models_eq', result_output_dir='./fewshot_results_eq/', seed=1, task='douban', tokenizer='./models/my_bert/')\n",
      "loading tokenizer ./models/my_bert/\n",
      "{0: '绿', 1: '黄'}\n",
      "##### *cls**mask*黑。*sent_0**sep+*\n",
      " #####\n",
      "#### read fewshot data from ./datasets/douban_output_1.csv ####\n",
      "### an example of template text ###\n",
      "[MASK]黑。毫无疑问的五星，看的太爽了！\n",
      "loading model ./models/my_bert/\n",
      "Epoch 0: 100%|███████████████████████| 16/16 [00:05<00:00,  3.11it/s, loss=1.82]\n",
      "Epoch 1: 100%|██████████████████████| 16/16 [00:05<00:00,  2.68it/s, loss=0.647]\n",
      "Epoch 2: 100%|██████████████████████| 16/16 [00:06<00:00,  2.53it/s, loss=0.162]\n",
      "Epoch 3: 100%|█████████████████████| 16/16 [00:05<00:00,  2.96it/s, loss=0.0319]\n",
      "Epoch 4: 100%|█████████████████████| 16/16 [00:06<00:00,  2.58it/s, loss=0.0204]\n",
      "Epoch 5: 100%|███████████████████| 16/16 [00:05<00:00,  2.90it/s, loss=0.000121]\n",
      "Epoch 6: 100%|██████████████████████| 16/16 [00:06<00:00,  2.63it/s, loss=0.431]\n",
      "Epoch 7: 100%|████████████████████| 16/16 [00:06<00:00,  2.61it/s, loss=0.00408]\n",
      "Epoch 8: 100%|███████████████████| 16/16 [00:06<00:00,  2.55it/s, loss=0.000319]\n",
      "Epoch 9: 100%|███████████████████| 16/16 [00:05<00:00,  2.97it/s, loss=0.000639]\n",
      "Epoch 10: 100%|███████████████████| 16/16 [00:06<00:00,  2.64it/s, loss=6.69e-5]\n",
      "Epoch 11: 100%|██████████████████| 16/16 [00:06<00:00,  2.61it/s, loss=0.000101]\n",
      "Epoch 12: 100%|██████████████████| 16/16 [00:05<00:00,  2.68it/s, loss=0.000325]\n",
      "Epoch 13: 100%|██████████████████| 16/16 [00:05<00:00,  2.68it/s, loss=0.000133]\n",
      "Epoch 14: 100%|███████████████████| 16/16 [00:05<00:00,  2.98it/s, loss=1.51e-5]\n",
      "Epoch 15: 100%|██████████████████| 16/16 [00:05<00:00,  2.79it/s, loss=0.000114]\n",
      "Epoch 16: 100%|███████████████████| 16/16 [00:06<00:00,  2.59it/s, loss=1.61e-6]\n",
      "Epoch 17: 100%|███████████████████| 16/16 [00:06<00:00,  2.54it/s, loss=1.42e-5]\n",
      "Epoch 18: 100%|███████████████████| 16/16 [00:05<00:00,  2.85it/s, loss=5.57e-5]\n",
      "Epoch 19: 100%|███████████████████| 16/16 [00:05<00:00,  2.84it/s, loss=7.33e-6]\n",
      "100%|███████████████████████████████████████████| 15/15 [00:43<00:00,  2.92s/it]\n",
      "0.5581140350877193\n",
      "Run prompt fewshot train and prediction for sentiment analysis\n",
      "### GPU available is True ###\n",
      "Namespace(batch_size=2, dataset_dir='./datasets/', epochs=20, eval_batch_size=64, label_convertion_flag='False', lr=0.0001, mapping=\"{0:'绿',1:'黄'}\", max_len=512, model='./models/my_bert/', num_label_words=1, output_dir='./tuned_models_eq', result_output_dir='./fewshot_results_eq/', seed=2, task='douban', tokenizer='./models/my_bert/')\n",
      "loading tokenizer ./models/my_bert/\n",
      "{0: '绿', 1: '黄'}\n",
      "##### *cls**mask*黑。*sent_0**sep+*\n",
      " #####\n",
      "#### read fewshot data from ./datasets/douban_output_2.csv ####\n",
      "### an example of template text ###\n",
      "[MASK]黑。最后一段居然是说教，画蛇添足\n",
      "loading model ./models/my_bert/\n",
      "Epoch 0: 100%|███████████████████████| 16/16 [00:06<00:00,  2.57it/s, loss=1.44]\n",
      "Epoch 1: 100%|██████████████████████| 16/16 [00:05<00:00,  2.82it/s, loss=0.485]\n",
      "Epoch 2: 100%|███████████████████████| 16/16 [00:05<00:00,  2.81it/s, loss=0.33]\n",
      "Epoch 3: 100%|██████████████████████| 16/16 [00:05<00:00,  3.05it/s, loss=0.316]\n",
      "Epoch 4: 100%|███████████████████████| 16/16 [00:06<00:00,  2.60it/s, loss=3.33]\n",
      "Epoch 5: 100%|██████████████████████| 16/16 [00:05<00:00,  2.67it/s, loss=0.582]\n",
      "Epoch 6: 100%|██████████████████████| 16/16 [00:06<00:00,  2.62it/s, loss=0.228]\n",
      "Epoch 7: 100%|█████████████████████| 16/16 [00:05<00:00,  2.89it/s, loss=0.0123]\n",
      "Epoch 8: 100%|███████████████████| 16/16 [00:05<00:00,  3.06it/s, loss=0.000994]\n",
      "Epoch 9: 100%|███████████████████| 16/16 [00:06<00:00,  2.58it/s, loss=0.000343]\n",
      "Epoch 10: 100%|██████████████████| 16/16 [00:06<00:00,  2.65it/s, loss=0.000291]\n",
      "Epoch 11: 100%|██████████████████| 16/16 [00:05<00:00,  2.74it/s, loss=0.000357]\n",
      "Epoch 12: 100%|██████████████████| 16/16 [00:05<00:00,  3.11it/s, loss=0.000173]\n",
      "Epoch 13: 100%|██████████████████| 16/16 [00:06<00:00,  2.54it/s, loss=0.000161]\n",
      "Epoch 14: 100%|██████████████████| 16/16 [00:05<00:00,  2.79it/s, loss=0.000169]\n",
      "Epoch 15: 100%|██████████████████| 16/16 [00:06<00:00,  2.65it/s, loss=0.000186]\n",
      "Epoch 16: 100%|██████████████████| 16/16 [00:06<00:00,  2.66it/s, loss=0.000207]\n",
      "Epoch 17: 100%|██████████████████| 16/16 [00:05<00:00,  3.10it/s, loss=0.000127]\n",
      "Epoch 18: 100%|██████████████████| 16/16 [00:05<00:00,  3.11it/s, loss=0.000191]\n",
      "Epoch 19: 100%|██████████████████| 16/16 [00:04<00:00,  3.60it/s, loss=0.000103]\n",
      "100%|███████████████████████████████████████████| 15/15 [00:48<00:00,  3.25s/it]\n",
      "0.5701754385964912\n",
      "Run prompt fewshot train and prediction for sentiment analysis\n",
      "### GPU available is True ###\n",
      "Namespace(batch_size=2, dataset_dir='./datasets/', epochs=20, eval_batch_size=64, label_convertion_flag='False', lr=0.0001, mapping=\"{0:'绿',1:'黄'}\", max_len=512, model='./models/my_bert/', num_label_words=1, output_dir='./tuned_models_eq', result_output_dir='./fewshot_results_eq/', seed=3, task='douban', tokenizer='./models/my_bert/')\n",
      "loading tokenizer ./models/my_bert/\n",
      "{0: '绿', 1: '黄'}\n",
      "##### *cls**mask*黑。*sent_0**sep+*\n",
      " #####\n",
      "#### read fewshot data from ./datasets/douban_output_3.csv ####\n",
      "### an example of template text ###\n",
      "[MASK]黑。还行吧，有点过去的情和成长的痛\n",
      "loading model ./models/my_bert/\n",
      "Epoch 0: 100%|███████████████████████| 16/16 [00:06<00:00,  2.48it/s, loss=3.15]\n",
      "Epoch 1: 100%|███████████████████████| 16/16 [00:05<00:00,  2.74it/s, loss=3.96]\n",
      "Epoch 2: 100%|███████████████████████| 16/16 [00:06<00:00,  2.57it/s, loss=2.35]\n",
      "Epoch 3: 100%|███████████████████████| 16/16 [00:06<00:00,  2.61it/s, loss=1.31]\n",
      "Epoch 4: 100%|███████████████████████| 16/16 [00:06<00:00,  2.64it/s, loss=1.34]\n",
      "Epoch 5: 100%|███████████████████████| 16/16 [00:05<00:00,  2.97it/s, loss=1.82]\n",
      "Epoch 6: 100%|███████████████████████| 16/16 [00:06<00:00,  2.57it/s, loss=1.09]\n",
      "Epoch 7: 100%|████████████████████████| 16/16 [00:06<00:00,  2.38it/s, loss=3.2]\n",
      "Epoch 8: 100%|███████████████████████| 16/16 [00:05<00:00,  2.79it/s, loss=1.74]\n",
      "Epoch 9: 100%|██████████████████████| 16/16 [00:05<00:00,  2.81it/s, loss=0.968]\n",
      "Epoch 10: 100%|█████████████████████| 16/16 [00:05<00:00,  3.13it/s, loss=0.149]\n",
      "Epoch 11: 100%|████████████████████| 16/16 [00:04<00:00,  3.21it/s, loss=0.0395]\n",
      "Epoch 12: 100%|██████████████████████| 16/16 [00:05<00:00,  2.71it/s, loss=31.2]\n",
      "Epoch 13: 100%|██████████████████████| 16/16 [00:05<00:00,  3.11it/s, loss=2.08]\n",
      "Epoch 14: 100%|██████████████████████| 16/16 [00:05<00:00,  2.81it/s, loss=2.67]\n",
      "Epoch 15: 100%|██████████████████████| 16/16 [00:05<00:00,  3.12it/s, loss=1.22]\n",
      "Epoch 16: 100%|██████████████████████| 16/16 [00:04<00:00,  3.32it/s, loss=1.02]\n",
      "Epoch 17: 100%|██████████████████████| 16/16 [00:04<00:00,  3.26it/s, loss=1.09]\n",
      "Epoch 18: 100%|███████████████████| 16/16 [00:06<00:00,  2.60it/s, loss=0.00173]\n",
      "Epoch 19: 100%|████████████████████| 16/16 [00:04<00:00,  3.35it/s, loss=0.0349]\n",
      "100%|███████████████████████████████████████████| 15/15 [00:48<00:00,  3.20s/it]\n",
      "0.5142543859649122\n",
      "Run prompt fewshot train and prediction for sentiment analysis\n",
      "### GPU available is True ###\n",
      "Namespace(batch_size=2, dataset_dir='./datasets/', epochs=20, eval_batch_size=64, label_convertion_flag='False', lr=0.0001, mapping=\"{0:'绿',1:'黄'}\", max_len=512, model='./models/my_bert/', num_label_words=1, output_dir='./tuned_models_eq', result_output_dir='./fewshot_results_eq/', seed=4, task='douban', tokenizer='./models/my_bert/')\n",
      "loading tokenizer ./models/my_bert/\n",
      "{0: '绿', 1: '黄'}\n",
      "##### *cls**mask*黑。*sent_0**sep+*\n",
      " #####\n",
      "#### read fewshot data from ./datasets/douban_output_4.csv ####\n",
      "### an example of template text ###\n",
      "[MASK]黑。表示对笑点看不懂！剧情好老套！\n",
      "loading model ./models/my_bert/\n",
      "Epoch 0: 100%|██████████████████████| 16/16 [00:06<00:00,  2.65it/s, loss=0.487]\n",
      "Epoch 1: 100%|██████████████████████| 16/16 [00:06<00:00,  2.63it/s, loss=0.121]\n",
      "Epoch 2: 100%|██████████████████████| 16/16 [00:06<00:00,  2.63it/s, loss=0.426]\n",
      "Epoch 3: 100%|██████████████████████| 16/16 [00:06<00:00,  2.61it/s, loss=0.577]\n",
      "Epoch 4: 100%|██████████████████████| 16/16 [00:05<00:00,  2.70it/s, loss=0.214]\n",
      "Epoch 5: 100%|██████████████████████| 16/16 [00:05<00:00,  2.77it/s, loss=0.308]\n",
      "Epoch 6: 100%|█████████████████████| 16/16 [00:05<00:00,  2.77it/s, loss=0.0274]\n",
      "Epoch 7: 100%|█████████████████████| 16/16 [00:05<00:00,  2.85it/s, loss=2.4e-5]\n",
      "Epoch 8: 100%|█████████████████████| 16/16 [00:05<00:00,  2.81it/s, loss=0.0331]\n",
      "Epoch 9: 100%|█████████████████████| 16/16 [00:06<00:00,  2.53it/s, loss=0.0221]\n",
      "Epoch 10: 100%|██████████████████████| 16/16 [00:06<00:00,  2.62it/s, loss=1.69]\n",
      "Epoch 11: 100%|████████████████████| 16/16 [00:06<00:00,  2.58it/s, loss=0.0057]\n",
      "Epoch 12: 100%|███████████████████| 16/16 [00:05<00:00,  3.19it/s, loss=0.00504]\n",
      "Epoch 13: 100%|████████████████████| 16/16 [00:05<00:00,  3.17it/s, loss=0.0018]\n",
      "Epoch 14: 100%|████████████████████| 16/16 [00:04<00:00,  3.51it/s, loss=0.0015]\n",
      "Epoch 15: 100%|██████████████████| 16/16 [00:04<00:00,  3.31it/s, loss=0.000875]\n",
      "Epoch 16: 100%|██████████████████| 16/16 [00:04<00:00,  3.59it/s, loss=0.000696]\n",
      "Epoch 17: 100%|███████████████████| 16/16 [00:04<00:00,  3.39it/s, loss=0.00136]\n",
      "Epoch 18: 100%|██████████████████| 16/16 [00:04<00:00,  3.49it/s, loss=0.000777]\n",
      "Epoch 19: 100%|██████████████████| 16/16 [00:04<00:00,  3.41it/s, loss=0.000692]\n",
      "100%|███████████████████████████████████████████| 15/15 [00:42<00:00,  2.84s/it]\n",
      "0.5098684210526315\n"
     ]
    }
   ],
   "source": [
    "!bash sh_senti_douban_fewshot_equal_epochs_v1.sh"
   ]
  },
  {
   "cell_type": "code",
   "execution_count": null,
   "metadata": {},
   "outputs": [],
   "source": []
  },
  {
   "cell_type": "code",
   "execution_count": null,
   "metadata": {},
   "outputs": [],
   "source": [
    "!bash sh_senti_weibo_fewshot_equal_epochs_3.sh"
   ]
  },
  {
   "cell_type": "code",
   "execution_count": null,
   "metadata": {},
   "outputs": [],
   "source": [
    "!bash sh_senti_weibo_fewshot_equal_epochs_4.sh"
   ]
  },
  {
   "cell_type": "code",
   "execution_count": null,
   "metadata": {},
   "outputs": [],
   "source": [
    "!bash sh_senti_waimai_fewshot_equal_epochs_3.sh"
   ]
  },
  {
   "cell_type": "code",
   "execution_count": null,
   "metadata": {},
   "outputs": [],
   "source": [
    "!bash sh_senti_waimai_fewshot_equal_epochs_4.sh"
   ]
  },
  {
   "cell_type": "code",
   "execution_count": null,
   "metadata": {},
   "outputs": [],
   "source": [
    "!bash sh_senti_ecommerce_fewshot_equal_epochs_3.sh"
   ]
  },
  {
   "cell_type": "code",
   "execution_count": null,
   "metadata": {},
   "outputs": [],
   "source": [
    "!bash sh_senti_ecommerce_fewshot_equal_epochs_4.sh"
   ]
  },
  {
   "cell_type": "code",
   "execution_count": null,
   "metadata": {},
   "outputs": [],
   "source": [
    "!bash sh_senti_douban_fewshot_equal_epochs_3.sh"
   ]
  },
  {
   "cell_type": "code",
   "execution_count": null,
   "metadata": {},
   "outputs": [],
   "source": [
    "!bash sh_senti_douban_fewshot_equal_epochs_4.sh"
   ]
  },
  {
   "cell_type": "code",
   "execution_count": null,
   "metadata": {},
   "outputs": [],
   "source": []
  }
 ],
 "metadata": {
  "kernelspec": {
   "display_name": "Python 3.8.8 ('base')",
   "language": "python",
   "name": "python3"
  },
  "language_info": {
   "codemirror_mode": {
    "name": "ipython",
    "version": 3
   },
   "file_extension": ".py",
   "mimetype": "text/x-python",
   "name": "python",
   "nbconvert_exporter": "python",
   "pygments_lexer": "ipython3",
   "version": "3.8.8"
  },
  "vscode": {
   "interpreter": {
    "hash": "d4d1e4263499bec80672ea0156c357c1ee493ec2b1c70f0acce89fc37c4a6abe"
   }
  }
 },
 "nbformat": 4,
 "nbformat_minor": 2
}
